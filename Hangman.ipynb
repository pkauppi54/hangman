{
 "cells": [
  {
   "cell_type": "code",
   "execution_count": 82,
   "id": "f90607f9",
   "metadata": {},
   "outputs": [],
   "source": [
    "import random"
   ]
  },
  {
   "cell_type": "code",
   "execution_count": null,
   "id": "4ff5b752",
   "metadata": {},
   "outputs": [],
   "source": []
  },
  {
   "cell_type": "code",
   "execution_count": 163,
   "id": "822097b2",
   "metadata": {},
   "outputs": [],
   "source": [
    "def input_word():\n",
    "    \n",
    "    words = [\"dog\",\"cat\",\"seagull\", \"rabbit\",\"shrimp\"]\n",
    "    \n",
    "    random_word = words[random.randint(0,len(words)-1)].upper()\n",
    "    \n",
    "    \n",
    "    return list(random_word)"
   ]
  },
  {
   "cell_type": "code",
   "execution_count": 168,
   "id": "c94186de",
   "metadata": {},
   "outputs": [
    {
     "name": "stdout",
     "output_type": "stream",
     "text": [
      "YES\n"
     ]
    }
   ],
   "source": [
    "d = input_word()\n",
    "if \"G\" in [\"G\",\"B\"]:\n",
    "    print(\"YES\")"
   ]
  },
  {
   "cell_type": "code",
   "execution_count": 74,
   "id": "b2d5dde9",
   "metadata": {},
   "outputs": [],
   "source": [
    "def create_list(mainword):\n",
    "    \n",
    "    return list(len(mainword)*\"#\")\n",
    "    "
   ]
  },
  {
   "cell_type": "code",
   "execution_count": 95,
   "id": "d5082117",
   "metadata": {},
   "outputs": [],
   "source": [
    "def guess():\n",
    "    \n",
    "    player_guess = \"\"\n",
    "    \n",
    "    while len(player_guess) != 1:\n",
    "        player_guess = input(\"Guess a letter: \").upper()\n",
    "    \n",
    "    \n",
    "    return player_guess"
   ]
  },
  {
   "cell_type": "code",
   "execution_count": null,
   "id": "810f9d7d",
   "metadata": {},
   "outputs": [],
   "source": [
    "def check_and_replace(mainword,hidden_word):\n",
    "\n",
    "   \n",
    "    \n",
    "    while hidden_word != mainword:\n",
    "        \n",
    "    \n",
    "        \n",
    "        for i in range(0,len(mainword)):\n",
    "            \n",
    "            if mainword[i] == guess:\n",
    "                \n",
    "                hidden_word[i] = guess\n",
    "                pass\n",
    "            else:\n",
    "                wrong_guesses.append(guess)\n",
    "                print(\"Wrong guess! Current wrong guesses are: \")\n",
    "                print(wrong_guesses)\n",
    "                continue\n",
    "        print(hidden_word)\n",
    "        \n",
    "        \n",
    "    \n",
    "\n",
    "# problem is that it iterates the answer through every character"
   ]
  },
  {
   "cell_type": "code",
   "execution_count": 116,
   "id": "da52321b",
   "metadata": {},
   "outputs": [],
   "source": [
    "def check_guess_in_word(guess,hidden_word):\n",
    "    if guess in hidden_word:\n",
    "        return True \n",
    "    else:\n",
    "        return False\n",
    "    \n",
    "    "
   ]
  },
  {
   "cell_type": "code",
   "execution_count": 138,
   "id": "28194296",
   "metadata": {},
   "outputs": [],
   "source": [
    "def add_to_wrongs(guess,grave):\n",
    "    \n",
    "        \n",
    "    if guess in grave:\n",
    "        print(\"You've already guessed that!\")\n",
    "        pass\n",
    "    else:\n",
    "        grave.append(guess)\n",
    "    return grave\n",
    "    \n",
    "    \n",
    "    "
   ]
  },
  {
   "cell_type": "code",
   "execution_count": 139,
   "id": "628de043",
   "metadata": {},
   "outputs": [
    {
     "name": "stdout",
     "output_type": "stream",
     "text": [
      "Guess a letter: f\n",
      "['F']\n",
      "Guess a letter: f\n",
      "You've already guessed that!\n",
      "['F']\n",
      "Guess a letter: e\n",
      "['F', 'E']\n",
      "Guess a letter: e\n",
      "You've already guessed that!\n",
      "['F', 'E']\n",
      "Guess a letter: k\n",
      "['F', 'E', 'K']\n",
      "Out of tries!\n"
     ]
    }
   ],
   "source": [
    "# asking for a guess and adding it to the guessed numbers,\n",
    "# if the letter is already in it, pass. while loop for restricted guesses.\n",
    "\n",
    "gravee =[]\n",
    "while len(gravee) < 3:\n",
    "    guesh = guess()\n",
    "    add_to_wrongs(guesh,gravee)\n",
    "    print(gravee)\n",
    "    \n",
    "print(\"Out of tries!\") \n",
    "\n"
   ]
  },
  {
   "cell_type": "code",
   "execution_count": 114,
   "id": "606f8c62",
   "metadata": {},
   "outputs": [
    {
     "name": "stdout",
     "output_type": "stream",
     "text": [
      "Guess a letter: e\n",
      "True\n",
      "SEAGULL\n"
     ]
    }
   ],
   "source": [
    "hidden_word = input_word()\n",
    "guesh = guess()\n",
    "\n",
    "result = check(guesh,hidden_word)\n",
    "\n",
    "print(result)\n",
    "print(hidden_word)"
   ]
  },
  {
   "cell_type": "code",
   "execution_count": 143,
   "id": "707e8d57",
   "metadata": {},
   "outputs": [],
   "source": [
    "def play_again():\n",
    "    \n",
    "    choice = input(\"Play again (y or n)?: \")\n",
    "    \n",
    "    if choice == \"y\":\n",
    "        return True\n",
    "    else: \n",
    "        return False\n",
    "    "
   ]
  },
  {
   "cell_type": "code",
   "execution_count": 171,
   "id": "611eeba1",
   "metadata": {},
   "outputs": [],
   "source": [
    "def play():\n",
    "    if input(\"Ready to play (y or n)?: \") == \"y\":\n",
    "        return True\n",
    "    else:\n",
    "        return False"
   ]
  },
  {
   "cell_type": "code",
   "execution_count": 173,
   "id": "1e5e93b3",
   "metadata": {},
   "outputs": [],
   "source": [
    "def check_win(hidden_list):\n",
    "    if \"#\" not in hidden_list:\n",
    "        return True\n",
    "    else:\n",
    "        return False\n",
    "    \n",
    "    "
   ]
  },
  {
   "cell_type": "code",
   "execution_count": 212,
   "id": "24ea8f91",
   "metadata": {},
   "outputs": [],
   "source": [
    "def game():\n",
    "    \n",
    "    print(\"\\nWelcome to the HangMan game!!\\n\\nYOU CAN ONLY MAKE 5 MISTAKES! \\n \\nLet's start!\")\n",
    "    \n",
    "    start = play()\n",
    "    if start:\n",
    "        game_on = True\n",
    "    else:\n",
    "        game_on = False        \n",
    "        \n",
    "\n",
    "    while game_on:\n",
    "        \n",
    "        grave = []\n",
    "        random_wordd = input_word()\n",
    "        hidden_list = create_list(random_wordd)\n",
    "        \n",
    "        loop = True\n",
    "        while loop == True:\n",
    "            \n",
    "            print(\"Guess this word one character at a time! \\n\")\n",
    "            print(hidden_list)\n",
    "            \n",
    "            \n",
    "            \n",
    "            while len(grave) < 5 and not check_win(hidden_list):\n",
    "                guesh = guess()\n",
    "\n",
    "                check = check_guess_in_word(guesh,random_wordd)\n",
    "            \n",
    "                if check:\n",
    "                    \n",
    "                    for i in range(0,len(random_wordd)):\n",
    "\n",
    "                        if random_wordd[i] == guesh:\n",
    "\n",
    "                            hidden_list[i] = guesh\n",
    "                            pass\n",
    "                        else:\n",
    "                            pass\n",
    "                        \n",
    "                    print(hidden_list)\n",
    "                    check_win(hidden_list)\n",
    "                else:\n",
    "                                       \n",
    "                    add_to_wrongs(guesh,grave)\n",
    "                    print(f\"\\nMissed tries: {grave}\")\n",
    "                    print(hidden_list)\n",
    " \n",
    "\n",
    "            else:\n",
    "                if len(grave) >= 5:\n",
    "                    print(\"\\nOut of tries!\")\n",
    "                    loop = False\n",
    "                else:\n",
    "                    print(\"\\nCONGRATS! YOU GUESSED THE WORD!! \\n\")\n",
    "                    loop = False       \n",
    "            \n",
    "        if not play_again():\n",
    "            game_on = False\n",
    "        else:\n",
    "            \n",
    "            continue\n",
    "              "
   ]
  },
  {
   "cell_type": "code",
   "execution_count": 214,
   "id": "2477da57",
   "metadata": {},
   "outputs": [
    {
     "name": "stdout",
     "output_type": "stream",
     "text": [
      "\n",
      "Welcome to the HangMan game!!\n",
      "\n",
      "YOU CAN ONLY MAKE 5 MISTAKES! \n",
      " \n",
      "Let's start!\n",
      "Ready to play (y or n)?: y\n",
      "Guess this word one character at a time! \n",
      "\n",
      "['#', '#', '#', '#', '#', '#', '#']\n",
      "Guess a letter: r\n",
      "\n",
      "Missed tries: ['R']\n",
      "['#', '#', '#', '#', '#', '#', '#']\n",
      "Guess a letter: a\n",
      "['#', '#', 'A', '#', '#', '#', '#']\n",
      "Guess a letter: s\n",
      "['S', '#', 'A', '#', '#', '#', '#']\n",
      "Guess a letter: t\n",
      "\n",
      "Missed tries: ['R', 'T']\n",
      "['S', '#', 'A', '#', '#', '#', '#']\n",
      "Guess a letter: u\n",
      "['S', '#', 'A', '#', 'U', '#', '#']\n",
      "Guess a letter: l\n",
      "['S', '#', 'A', '#', 'U', 'L', 'L']\n",
      "Guess a letter: e\n",
      "['S', 'E', 'A', '#', 'U', 'L', 'L']\n",
      "Guess a letter: g\n",
      "['S', 'E', 'A', 'G', 'U', 'L', 'L']\n",
      "\n",
      "CONGRATS! YOU GUESSED THE WORD!! \n",
      "\n",
      "Play again (y or n)?: n\n"
     ]
    }
   ],
   "source": [
    "game()"
   ]
  },
  {
   "cell_type": "code",
   "execution_count": null,
   "id": "20d33e24",
   "metadata": {},
   "outputs": [],
   "source": []
  }
 ],
 "metadata": {
  "kernelspec": {
   "display_name": "Python 3",
   "language": "python",
   "name": "python3"
  },
  "language_info": {
   "codemirror_mode": {
    "name": "ipython",
    "version": 3
   },
   "file_extension": ".py",
   "mimetype": "text/x-python",
   "name": "python",
   "nbconvert_exporter": "python",
   "pygments_lexer": "ipython3",
   "version": "3.8.8"
  }
 },
 "nbformat": 4,
 "nbformat_minor": 5
}
